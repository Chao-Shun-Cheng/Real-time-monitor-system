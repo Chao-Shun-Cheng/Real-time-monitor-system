{
 "cells": [
  {
   "cell_type": "code",
   "execution_count": 1,
   "metadata": {},
   "outputs": [
    {
     "name": "stdout",
     "output_type": "stream",
     "text": [
      "2021/06/18 17:37:10\n"
     ]
    }
   ],
   "source": [
    "#!/usr/bin/python3\n",
    "'''\n",
    "Author: Zhao-Shun Zheng\n",
    "Date: 2021/6/19\n",
    "function: Publish datas from sensors by MQTT\n",
    "email: e14051148@gs.ncku.edu.tw\n",
    "'''\n",
    "import paho.mqtt.client as mqtt\n",
    "import random\n",
    "import json  \n",
    "import datetime \n",
    "import time\n",
    "import pandas as pd\n",
    "import cv2\n",
    "import numpy as np\n",
    "\n",
    "HOST = \"192.168.0.147\"\n",
    "PORT = 1883  \n",
    "\n",
    "client = mqtt.Client()\n",
    "\n",
    "client.connect(HOST, PORT, 60)\n",
    "\n",
    "count_5 = 0\n",
    "count_2 = 0\n",
    "count_6 = 0\n",
    "count_1 = 0\n",
    "\n",
    "data_group5 = pd.read_csv('./Data/Group5_Start_1.csv')\n",
    "data_group2 = pd.read_csv('./Data/Group2_Tracking_2.csv')\n",
    "data_group6 = pd.read_csv('./Data/Group6_defect_3.csv')\n",
    "data_group1 = pd.read_csv('./Data/Group1_Shipment_4.csv')\n",
    "\n",
    "ISOTIMEFORMAT = '%Y/%m/%d %H:%M:%S'\n",
    "print(datetime.datetime.now().strftime(ISOTIMEFORMAT))"
   ]
  },
  {
   "cell_type": "code",
   "execution_count": 2,
   "metadata": {},
   "outputs": [],
   "source": [
    "for i in range(0, len(data_group2)):\n",
    "\n",
    "# -----------------Start------------------- #\n",
    "    if str(data_group2[\"位置\"][count_2]) == '0':\n",
    "        payload5 = (  str(data_group5[\"訂單編號\"][count_5]) + ',' \n",
    "                   + str(data_group5[\"工件編號\"][count_5]) + ',' \n",
    "                   + str(data_group5[\"執行時間\"][count_5]) + ',' \n",
    "                   + str(data_group5[\"物件種類\"][count_5]))\n",
    "        client.publish(\"IOT/Group5\", bytes(payload5, encoding = \"utf-8\"))\n",
    "        count_5 = count_5 + 1\n",
    "# -----------------Start------------------- #\n",
    "\n",
    "# -----------------detect defect------------------- #\n",
    "    if str(data_group2[\"位置\"][count_2]) == '150':\n",
    "        path = 'Image/' + str(data_group6[\"影像\"][count_6])\n",
    "        img = cv2.imread(path)\n",
    "        image = img.tolist()\n",
    "        payload6 = (  str(data_group6[\"訂單編號\"][count_6]) + ',' \n",
    "                   + str(data_group6[\"工件編號\"][count_6]) + ',' \n",
    "                   + str(data_group6[\"瑕疵檢測\"][count_6]))\n",
    "        message =  { 'payload' : payload6, 'image' : image } \n",
    "        client.publish(\"IOT/Group6\", json.dumps(message))\n",
    "        count_6 = count_6 + 1\n",
    "# -----------------detect defect------------------- #\n",
    "\n",
    "# -----------------Finish------------------- #\n",
    "    if str(data_group2[\"位置\"][count_2]) == '200':\n",
    "        payload1 = (  str(data_group1[\"訂單編號\"][count_1]) + ',' \n",
    "               + str(data_group1[\"工件編號\"][count_1]) + ',' \n",
    "               + str(data_group1[\"夾取時間\"][count_1]) + ',' \n",
    "               + str(data_group1[\"出貨時間\"][count_1]) + ',' \n",
    "               + str(data_group1[\"出貨地點\"][count_1]))\n",
    "        client.publish(\"IOT/Group1\", bytes(payload1, encoding = \"utf-8\"))\n",
    "        count_1 = count_1 + 1\n",
    "# -----------------Finish------------------- #\n",
    "\n",
    "# -----------------Track position------------------- # \n",
    "    payload2 = (  str(data_group2[\"訂單編號\"][count_2]) + ',' \n",
    "               + str(data_group2[\"工件編號\"][count_2]) + ',' \n",
    "               + str(data_group2[\"位置\"][count_2])) \n",
    "    client.publish(\"IOT/Group2\", bytes(payload2, encoding = \"utf-8\"))\n",
    "    count_2 = count_2 + 1\n",
    "# -----------------Track position------------------- #\n",
    "    \n",
    "    time.sleep(1)"
   ]
  },
  {
   "cell_type": "code",
   "execution_count": null,
   "metadata": {},
   "outputs": [],
   "source": []
  }
 ],
 "metadata": {
  "kernelspec": {
   "display_name": "Python 3",
   "language": "python",
   "name": "python3"
  },
  "language_info": {
   "codemirror_mode": {
    "name": "ipython",
    "version": 3
   },
   "file_extension": ".py",
   "mimetype": "text/x-python",
   "name": "python",
   "nbconvert_exporter": "python",
   "pygments_lexer": "ipython3",
   "version": "3.7.9"
  }
 },
 "nbformat": 4,
 "nbformat_minor": 5
}
