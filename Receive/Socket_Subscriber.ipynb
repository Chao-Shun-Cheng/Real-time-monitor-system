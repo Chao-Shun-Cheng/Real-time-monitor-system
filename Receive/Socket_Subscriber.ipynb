{
 "cells": [
  {
   "cell_type": "code",
   "execution_count": 4,
   "metadata": {},
   "outputs": [],
   "source": [
    "#!/usr/bin/python3\n",
    "'''\n",
    "Author: Zhao-Shun Zheng\n",
    "Date: 2021/6/19\n",
    "function: Receive real time video by socket\n",
    "email: e14051148@gs.ncku.edu.tw\n",
    "'''\n",
    "import socket\n",
    "import cv2\n",
    "import numpy\n",
    "\n",
    "TCP_IP = \"192.168.0.147\"\n",
    "TCP_PORT = 8000\n",
    "\n",
    "def recvall(sock, count):\n",
    "    buf = b''\n",
    "    while count:\n",
    "        newbuf = sock.recv(count)\n",
    "        if not newbuf: return None\n",
    "        buf += newbuf\n",
    "        count -= len(newbuf)\n",
    "    return buf\n",
    "\n",
    "sock = socket.socket()\n",
    "sock.connect((TCP_IP, TCP_PORT))"
   ]
  },
  {
   "cell_type": "code",
   "execution_count": 8,
   "metadata": {},
   "outputs": [],
   "source": [
    "while True:\n",
    "    length = recvall(sock, 16)\n",
    "    stringData = recvall(sock, int(length))\n",
    "    data = numpy.frombuffer(stringData, dtype='uint8')\n",
    "    img = cv2.imdecode(data, 1)\n",
    "    cv2.imshow('client', img)\n",
    "    if cv2.waitKey(30) & 0xFF == ord('q'):\n",
    "        break\n",
    "    \n",
    "cv2.destroyAllWindows()\n"
   ]
  },
  {
   "cell_type": "code",
   "execution_count": null,
   "metadata": {},
   "outputs": [],
   "source": [
    "sock.close()"
   ]
  }
 ],
 "metadata": {
  "kernelspec": {
   "display_name": "Python 3",
   "language": "python",
   "name": "python3"
  },
  "language_info": {
   "codemirror_mode": {
    "name": "ipython",
    "version": 3
   },
   "file_extension": ".py",
   "mimetype": "text/x-python",
   "name": "python",
   "nbconvert_exporter": "python",
   "pygments_lexer": "ipython3",
   "version": "3.7.9"
  }
 },
 "nbformat": 4,
 "nbformat_minor": 5
}
